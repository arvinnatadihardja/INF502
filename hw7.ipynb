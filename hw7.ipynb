{
 "cells": [
  {
   "cell_type": "markdown",
   "metadata": {},
   "source": [
    "the funciton successiveDivision takes the parameters a,b and performs successive divisions."
   ]
  },
  {
   "cell_type": "code",
   "execution_count": 15,
   "metadata": {},
   "outputs": [],
   "source": [
    "def successiveDivision(a,b):\n",
    "    i = 1\n",
    "    while(i<=b):#run until i<=b\n",
    "        if (a % i == 0 and b % i ==0):#if exact division\n",
    "            f = i;      \n",
    "        i = i + 1\n",
    "    return f\n",
    "    "
   ]
  },
  {
   "cell_type": "markdown",
   "metadata": {},
   "source": [
    "the function GDF takes parameters a,b and swaps these variable if b > a and passed to function successiveDivision to find GDF."
   ]
  },
  {
   "cell_type": "code",
   "execution_count": 16,
   "metadata": {},
   "outputs": [],
   "source": [
    "\n",
    "def GDF(a,b):\n",
    "    \n",
    "    if ( b > a): \n",
    "        temp = b;\n",
    "        b = a;\n",
    "        a = temp;\n",
    "    res = successiveDivision(a,b)\n",
    "    return res"
   ]
  },
  {
   "cell_type": "markdown",
   "metadata": {},
   "source": [
    "Test function "
   ]
  },
  {
   "cell_type": "code",
   "execution_count": 17,
   "metadata": {},
   "outputs": [
    {
     "name": "stdout",
     "output_type": "stream",
     "text": [
      "Test1: a= 12 b=18: 6\n",
      "Test2: a= 48 b=30: 6\n"
     ]
    }
   ],
   "source": [
    "res = GDF(12,18)\n",
    "print(\"Test1: a= 12 b=18:\",res)\n",
    "\n",
    "res = GDF(48,30)\n",
    "print(\"Test2: a= 48 b=30:\",res)"
   ]
  },
  {
   "cell_type": "code",
   "execution_count": null,
   "metadata": {},
   "outputs": [],
   "source": []
  }
 ],
 "metadata": {
  "kernelspec": {
   "display_name": "Python 3",
   "language": "python",
   "name": "python3"
  },
  "language_info": {
   "codemirror_mode": {
    "name": "ipython",
    "version": 3
   },
   "file_extension": ".py",
   "mimetype": "text/x-python",
   "name": "python",
   "nbconvert_exporter": "python",
   "pygments_lexer": "ipython3",
   "version": "3.7.0"
  }
 },
 "nbformat": 4,
 "nbformat_minor": 2
}
