{
 "cells": [
  {
   "cell_type": "markdown",
   "metadata": {},
   "source": [
    "Function of a periodic table will allow user to store element name, symbol, atomic number, row & column."
   ]
  },
  {
   "cell_type": "code",
   "execution_count": 1,
   "metadata": {},
   "outputs": [],
   "source": [
    "def periodic_table() :\n",
    "\n",
    "    exit = False\n",
    "    elementList = []\n",
    "\n",
    "    while(exit == False):\n",
    "        elementName = input(\"Enter a element name: \")\n",
    "        elementSymbol = input(\"Enter a element symbol: \")\n",
    "        elementAtomic_Number = input(\"Enter a atomic number: \")\n",
    "        elementRow = input(\"Enter the row the element belongs in: \")\n",
    "        elementCol = input(\"Enter the column the element belongs in: \")\n",
    "\n",
    "        element = {\"name\": elementName, \"symbol\": elementSymbol, \"atomic number\": elementAtomic_Number,\n",
    "                   \"row\": elementRow,\n",
    "                   \"column\": elementCol}\n",
    "\n",
    "\n",
    "        elementList.append(element)\n",
    "\n",
    "        getBol = input(\"Do you want to get data about an element (yes or no)\")\n",
    "\n",
    "        if(getBol == \"yes\"):\n",
    "\n",
    "            getElement = input(\"Which element do you want to get data for (symbol): \")\n",
    "\n",
    "            index = 0\n",
    "\n",
    "            for x in elementList:\n",
    "                if(x.get(\"symbol\") == getElement):\n",
    "                    print (\"\\n\", x.get(\"name\"), \"\\n\", x.get(\"symbol\"), \"\\n\", x.get(\"atomic number\"),\n",
    "                           \"\\n\", x.get(\"row\"), \"\\n\", x.get(\"column\"))\n",
    "\n",
    "        exitBol = input(\"Do you wish to continue (yes or no)\")\n",
    "\n",
    "        if(exitBol == \"no\"):\n",
    "            exit = True"
   ]
  },
  {
   "cell_type": "code",
   "execution_count": null,
   "metadata": {},
   "outputs": [],
   "source": [
    "periodic_table()"
   ]
  },
  {
   "cell_type": "code",
   "execution_count": null,
   "metadata": {},
   "outputs": [],
   "source": []
  }
 ],
 "metadata": {
  "kernelspec": {
   "display_name": "Python 3",
   "language": "python",
   "name": "python3"
  },
  "language_info": {
   "codemirror_mode": {
    "name": "ipython",
    "version": 3
   },
   "file_extension": ".py",
   "mimetype": "text/x-python",
   "name": "python",
   "nbconvert_exporter": "python",
   "pygments_lexer": "ipython3",
   "version": "3.7.3"
  }
 },
 "nbformat": 4,
 "nbformat_minor": 4
}
