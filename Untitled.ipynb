{
 "cells": [
  {
   "cell_type": "code",
   "execution_count": 4,
   "metadata": {},
   "outputs": [],
   "source": [
    "def value_of_a_wallet(x1 , x2 , x3 , x4 ,x5) :\n",
    "\n",
    "    list_one = [x1 , x2 , x3 , x4 , x5 ]\n",
    "    highestValue = 0\n",
    "    lowestValue = x4\n",
    "    totalValue = 0\n",
    "    dimes = 0\n",
    "\n",
    "    for x in list_one:\n",
    "        if(x > highestValue):\n",
    "            highestValue = x\n",
    "\n",
    "        if (x < lowestValue):\n",
    "            lowestValue = x\n",
    "\n",
    "        totalValue += x\n",
    "\n",
    "    dimes = totalValue * 10\n",
    "\n",
    "    print (\"The fattest wallet: \" , highestValue)\n",
    "    print (\"The skinniest wallet: \" , lowestValue)\n",
    "    print (\"The total value of the wallet : \" , totalValue)\n",
    "    print (\"All together, the total value of these wallets in dimes: \" , dimes)"
   ]
  },
  {
   "cell_type": "code",
   "execution_count": 5,
   "metadata": {},
   "outputs": [
    {
     "name": "stdout",
     "output_type": "stream",
     "text": [
      "The fattest wallet:  250\n",
      "The skinniest wallet:  50\n",
      "The total value of the wallet :  750\n",
      "All together, the total value of these wallets in dimes:  7500\n"
     ]
    }
   ],
   "source": [
    "   value_of_a_wallet(50, 100, 150, 200, 250)"
   ]
  }
 ],
 "metadata": {
  "kernelspec": {
   "display_name": "Python 3",
   "language": "python",
   "name": "python3"
  },
  "language_info": {
   "codemirror_mode": {
    "name": "ipython",
    "version": 3
   },
   "file_extension": ".py",
   "mimetype": "text/x-python",
   "name": "python",
   "nbconvert_exporter": "python",
   "pygments_lexer": "ipython3",
   "version": "3.7.3"
  }
 },
 "nbformat": 4,
 "nbformat_minor": 4
}
