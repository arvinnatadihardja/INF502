{
 "cells": [
  {
   "cell_type": "code",
   "execution_count": 1,
   "metadata": {},
   "outputs": [],
   "source": [
    "import urllib.request, json \n",
    "from datetime import date\n",
    "import pandas as pd\n",
    "import matplotlib.pyplot as plt\n",
    "import numpy as np\n",
    "import httplib2\n",
    "import csv"
   ]
  },
  {
   "cell_type": "code",
   "execution_count": 2,
   "metadata": {},
   "outputs": [],
   "source": [
    "link = \"https://api.github.com/search/issues?q=is:pr+repo:jabref/jabref\""
   ]
  },
  {
   "cell_type": "code",
   "execution_count": 3,
   "metadata": {},
   "outputs": [],
   "source": [
    "class User:\n",
    "    def __init__(self,login,twitter,gists,repos,followers,following):\n",
    "        self.login = login\n",
    "        self.twitter = twitter\n",
    "        self.gists = gists\n",
    "        self.repos = repos\n",
    "        self.followers = followers\n",
    "        self.following = following\n",
    "    def getLogin(self):\n",
    "        return self.login\n",
    "    def getTwitter(self):\n",
    "        return self.twitter\n",
    "    def getGists(self):\n",
    "        return self.gists\n",
    "    def getRepos(self):\n",
    "        return self.repos\n",
    "    def getFollowers(self):\n",
    "        return self.followers\n",
    "    def getFollowing(self):\n",
    "        return self.following\n",
    "class Pull:\n",
    "    def __init__(self,url,title, body, score,number, state, created_at,commits,additions,deletions,change_files,user):\n",
    "        self.url = url\n",
    "        self.title = title\n",
    "        self.body = body\n",
    "        self.score = score\n",
    "        self.number = number\n",
    "        self.state = state\n",
    "        self.created_at = created_at\n",
    "        self.commits = commits\n",
    "        self.additions = additions\n",
    "        self.deletions = deletions\n",
    "        self.change_files = change_files\n",
    "        self.user = user\n",
    "    def getUser(self):\n",
    "        return self.user\n",
    "    def getPullURL(self):\n",
    "        return self.url\n",
    "    def getTitle(self):\n",
    "        return self.title\n",
    "    def getBody(self):\n",
    "        return self.body\n",
    "    def getScore(self):\n",
    "        return self.score\n",
    "    def getNumber(self):\n",
    "        return self.number\n",
    "    def getState(self):\n",
    "        return self.state\n",
    "    def getCreatedat(self):\n",
    "        return self.created_at\n",
    "    def getCommits(self):\n",
    "        return self.commits\n",
    "    def getDeletions(self):\n",
    "        return self.deletions\n",
    "    def getAdditions(self):\n",
    "        return self.additions\n",
    "    def getChangefiles(self):\n",
    "        return self.change_files\n",
    "    def toString(self):\n",
    "        return \"Title: \"+self.getTitle()+\", Score: \"+str(self.getScore())+\", Number: \"+str(self.getNumber())+\", Createdat: \"+str(self.getCreatedat())\n",
    "class Project:\n",
    "    def __init__(self, name,login,description,homepage,license,forks, watchers,date_of_collection):\n",
    "        self.name = name\n",
    "        self.login = login\n",
    "        self.description = description\n",
    "        self.homepage = homepage\n",
    "        self.license = license\n",
    "        self.forks = forks\n",
    "        self.watchers = watchers\n",
    "        self.date_of_collection = date_of_collection\n",
    "        self.pulls = []\n",
    "    def addPull(self,request):\n",
    "        self.pulls.append(request)\n",
    "    def getPullRequests(self):\n",
    "        return self.pulls\n",
    "    def getName(self):\n",
    "        return self.name\n",
    "    def getLogin(self):\n",
    "        return self.login\n",
    "    def getDescription(self):\n",
    "        return self.description\n",
    "    def getHomepage(self):\n",
    "        return self.homepage\n",
    "    def getLicense(self):\n",
    "        return self.license\n",
    "    def getForks(self):\n",
    "        return self.forks\n",
    "    def getWatchers(self):\n",
    "        return self.watchers\n",
    "    def getDateofcollection(self):\n",
    "        return self.date_of_collection\n",
    "    def toString(self):\n",
    "        return \"Name: \"+self.getName()+\", Login: \"+self.getLogin()+\", Desc: \"+self.getDescription()+\"\\n Homepage:\"+self.getHomepage()+\"\\nForks: \"+self.getForks()+\", Watchers: \"+self.getWatchers()\n",
    "class License:\n",
    "    def __init__(self,key,name,lid,url,node):\n",
    "        self.key = key\n",
    "        self.name = name\n",
    "        self.lid = lid\n",
    "        self.url = url\n",
    "        self.node = node\n",
    "    def getKey(self):\n",
    "        return self.key\n",
    "    def getName(self):\n",
    "        return self.name\n",
    "    def getLid(self):\n",
    "        return self.lid\n",
    "    def getUrl(self):\n",
    "        return self.url\n",
    "    def getNode(self):\n",
    "        return self.node\n",
    "    def toString(self):\n",
    "        return \"Key: \"+self.getKey()+\", Name: \"+self.getName()+\", Lid:\"+self.getLid()"
   ]
  },
  {
   "cell_type": "code",
   "execution_count": 4,
   "metadata": {},
   "outputs": [],
   "source": [
    "\n",
    "def getProjectDetails(link):\n",
    "    with urllib.request.urlopen(link) as url:\n",
    "        data = json.loads(url.read().decode())\n",
    "        name = data[\"name\"]\n",
    "        owner = data[\"owner\"]\n",
    "        login = owner[\"login\"]\n",
    "        forks = data[\"forks\"]\n",
    "        desc = data[\"description\"]\n",
    "        lic = data[\"license\"]\n",
    "        licObj = License(lic[\"key\"],lic[\"name\"],lic[\"spdx_id\"],lic[\"url\"],lic[\"node_id\"])\n",
    "        homepage = data[\"homepage\"]\n",
    "        watchers = data[\"watchers\"]\n",
    "        date_of_collection = date.today()\n",
    "        projectObj = Project(name,login,desc,homepage,licObj,str(forks),str(watchers),date_of_collection)\n",
    "        \n",
    "        return projectObj\n"
   ]
  },
  {
   "cell_type": "code",
   "execution_count": 5,
   "metadata": {},
   "outputs": [],
   "source": [
    "def collect(link):\n",
    "    with urllib.request.urlopen(link) as url:\n",
    "        data = json.loads(url.read().decode())\n",
    "        #scrape project basic details\n",
    "        items = data[\"items\"]\n",
    "        repository_url = items[0]['repository_url']\n",
    "        project = getProjectDetails(repository_url)\n",
    "    \n",
    "        #scrape pull requests now\n",
    "        for item in items:\n",
    "            created_at = item[\"created_at\"]\n",
    "            body = item[\"body\"]\n",
    "            score = item[\"score\"]\n",
    "            pull_url = item[\"pull_request\"][\"url\"]\n",
    "            with urllib.request.urlopen(pull_url) as pul:\n",
    "                pull_request = json.loads(pul.read().decode())\n",
    "                title = pull_request[\"title\"]\n",
    "                number = pull_request[\"number\"]\n",
    "                state = pull_request[\"state\"]\n",
    "                additions = pull_request[\"additions\"]\n",
    "                deletions = pull_request[\"deletions\"]\n",
    "                commits = pull_request[\"commits\"]\n",
    "                change_files = pull_request[\"changed_files\"]\n",
    "                user = pull_request[\"user\"][\"login\"]\n",
    "                pull = Pull(pull_url,title, body, score,number, state, created_at,commits,additions,deletions,change_files,user)\n",
    "                project.addPull(pull)\n",
    "        return project"
   ]
  },
  {
   "cell_type": "code",
   "execution_count": 6,
   "metadata": {},
   "outputs": [],
   "source": [
    "def display(project):\n",
    "    print(\"Project Details Collected On: \"+str(project.getDateofcollection()))\n",
    "    print(project.toString())\n",
    "    print(\"Project License: \"+project.getLicense().toString())\n",
    "    \n",
    "    for pr in project.getPullRequests():\n",
    "        print(pr.toString())\n",
    "        \n",
    "def write(project):\n",
    "    #writing project.csv\n",
    "    import csv   \n",
    "    #fields=['name','login','description','homepage','license','forks', 'watchers','date_of_collection']\n",
    "    with open('projects.csv', 'a', newline='') as f:\n",
    "        writer = csv.writer(f)\n",
    "        writer.writerow([project.getName(),project.getLogin(),project.getDescription(),project.getHomepage(),project.getLicense().getKey(),\n",
    "                    project.getForks(),project.getWatchers(),project.getDateofcollection()])\n",
    "\n",
    "    pullFields = ['url','title','body','score','number','state','created_at','commits','additions','deletions','change_files','user']\n",
    "    #writing pull requests\n",
    "    with open('projects/project_'+project.getLogin()+'.csv', 'w', newline='') as f:\n",
    "        writer = csv.writer(f)\n",
    "        writer.writerow(pullFields)\n",
    "        for pr in project.getPullRequests():\n",
    "            writer.writerow([pr.getPullURL(),pr.getTitle(),pr.getBody(),pr.getScore(),pr.getNumber(),pr.getState(),pr.getCreatedat(),\n",
    "                        pr.getCommits(),pr.getAdditions(),pr.getDeletions(),pr.getChangefiles(),pr.getUser()])\n"
   ]
  },
  {
   "cell_type": "code",
   "execution_count": 7,
   "metadata": {},
   "outputs": [],
   "source": [
    "\n",
    "def twitter(project):\n",
    "    users = []\n",
    "    logins = []\n",
    "    # check twitter accounts\n",
    "    for pr in project.getPullRequests():\n",
    "        login = pr.getUser()\n",
    "        found = False\n",
    "        for s in logins:\n",
    "            if s == login:\n",
    "                found = True\n",
    "        if found ==  False:\n",
    "            http = httplib2.Http()\n",
    "            resp = http.request('https://twitter.com/'+login)[0]\n",
    "            twitter = False\n",
    "            if resp.status == 200:\n",
    "                twitter = True\n",
    "            link = 'https://api.github.com/users/'+login\n",
    "            with urllib.request.urlopen(link) as url:\n",
    "                data = json.loads(url.read().decode())\n",
    "                repos = data[\"public_repos\"]\n",
    "                gist = data[\"public_gists\"]\n",
    "                followers = data[\"followers\"]\n",
    "                following = data[\"following\"]\n",
    "                u = User(login,twitter,repos,gist,followers,following)\n",
    "                users.append(u)\n",
    "        logins.append(login)\n",
    "    return users"
   ]
  },
  {
   "cell_type": "code",
   "execution_count": 8,
   "metadata": {},
   "outputs": [],
   "source": [
    "def writeUsers(users):\n",
    "    #userFields = ['login','twitter','repos','gist','followers','following']\n",
    "    #writing users\n",
    "    with open('users.csv', 'a', newline='') as f:\n",
    "        writer = csv.writer(f)\n",
    "        #writer.writerow(userFields)\n",
    "        for user in users:\n",
    "            writer.writerow([user.getLogin(),user.getTwitter(),user.getRepos(),user.getGists(),user.getFollowers(),user.getFollowing()])\n"
   ]
  },
  {
   "cell_type": "code",
   "execution_count": 23,
   "metadata": {},
   "outputs": [],
   "source": [
    "def visuailizeResults(project):\n",
    "    state = []\n",
    "    commits = []\n",
    "    additions = []\n",
    "    deletions = []\n",
    "    createdat = []\n",
    "    userlist = []\n",
    "    change_files = []\n",
    "    for pr in project.getPullRequests():\n",
    "        state.append(pr.getState())\n",
    "        commits.append(pr.getCommits())\n",
    "        additions.append(pr.getAdditions())\n",
    "        deletions.append(pr.getDeletions())\n",
    "        createdat.append(pr.getCreatedat())\n",
    "        change_files.append(pr.getChangefiles())\n",
    "        userlist.append(pr.getUser())\n",
    "    df = pd.DataFrame(list(zip(state, commits,additions,deletions,createdat,change_files,userlist)), columns =['state', 'commits','additions','deletions','createdat','change_files','user'])\n",
    "    df['year'] = pd.DatetimeIndex(df['createdat']).year\n",
    "    df['month'] = pd.DatetimeIndex(df['createdat']).month\n",
    "    df['day'] = pd.DatetimeIndex(df['createdat']).day\n",
    "    df['date'] = pd.to_datetime(df.createdat, format='%Y-%m-%d')\n",
    "    df.head()\n",
    "    df.boxplot(by ='state', column =['commits'], grid = True) \n",
    "    df.boxplot(by ='state', column =['additions','deletions'], grid = True)\n",
    "    df.boxplot(by ='user', column =['change_files'], grid = True)\n",
    "    \n",
    "    colors = (0,0,0)\n",
    "    area = np.pi*3\n",
    "    plt.scatter(additions, deletions, s=area, c=colors, alpha=0.5)\n",
    "    plt.title('Additions vs Deletions')\n",
    "    plt.xlabel('Additions')\n",
    "    plt.ylabel('Deletions')\n",
    "    plt.show()\n",
    "    df.hist(column='commits')\n",
    "    plt.plot(df['date'].dt.day,df['commits'])\n",
    "    plt.title('Commits/Day')\n",
    "    plt.xlabel('Date')\n",
    "    plt.ylabel('Commits')\n",
    "    plt.show()\n",
    "    \n",
    "    df_open = df[df.state == \"open\"]\n",
    "    df_close = df[df.state == \"closed\"]\n",
    "\n",
    "    open_res = df_open['date'].dt.day.value_counts().sort_index()\n",
    "    close_res = df_close['date'].dt.day.value_counts().sort_index()\n",
    "\n",
    "    plt.plot(open_res,label=\"Open\")\n",
    "    plt.plot(close_res,label=\"Closed\")\n",
    "    plt.title('(Open vs Close)Commits/Day')\n",
    "    plt.xlabel('Date')\n",
    "    plt.ylabel('Commits')\n",
    "    plt.legend(loc=\"upper left\")\n",
    "    plt.show()\n",
    "\n",
    "    plt.plot(df['date'].dt.day,df['commits'])\n",
    "    plt.title('Commits/Day')\n",
    "    plt.xlabel('Date')\n",
    "    plt.ylabel('Commits')\n",
    "    plt.show()\n",
    "def corr():\n",
    "    #coorelation\n",
    "    df = pd.read_csv(\"users.csv\") \n",
    "    df.corr(method ='pearson') \n",
    "    df = pd.read_csv(\"projects.csv\") \n",
    "    df.corr(method ='pearson') "
   ]
  },
  {
   "cell_type": "code",
   "execution_count": 10,
   "metadata": {},
   "outputs": [
    {
     "name": "stderr",
     "output_type": "stream",
     "text": [
      ".....\n",
      "----------------------------------------------------------------------\n",
      "Ran 5 tests in 0.000s\n",
      "\n",
      "OK\n"
     ]
    }
   ],
   "source": [
    "import unittest\n",
    "\n",
    "\n",
    "class Testing(unittest.TestCase):\n",
    "    def test_User(self):\n",
    "        user = User('tobiasdiez','TRUE',1,35,13,0)\n",
    "        login = 'tobiasdiez'\n",
    "        self.assertEqual(login, user.getLogin())\n",
    "\n",
    "    def test_Project1(self):\n",
    "        pr = Project('jabref','JabRef','Graphical Java application for managing BibTeX and biblatex (.bib) databases','https://www.jabref.org',None,'1043','1488','12/2/2019')\n",
    "        a = 'Name: jabref, Login: JabRef, Desc: Graphical Java application for managing BibTeX and biblatex (.bib) databases\\n Homepage:https://www.jabref.org\\nForks: 1043, Watchers: 1488'\n",
    "        b = pr.toString()\n",
    "        self.assertEqual(a, b)\n",
    "    \n",
    "    def test_Project2(self):\n",
    "        pr = Project('jabref','JabRef','Graphical Java application for managing BibTeX and biblatex (.bib) databases','https://www.jabref.org',None,'1043','1488','12/2/2019')\n",
    "        a = 'jabref'        \n",
    "        b = pr.getName()\n",
    "        self.assertEqual(a, b)\n",
    "        \n",
    "    def test_Twitter(self):\n",
    "        user = User('tobiasdiez','TRUE',1,35,13,0)\n",
    "        flag = 'TRUE'\n",
    "        self.assertEqual(flag, user.getTwitter())\n",
    "        \n",
    "    def test_ProjectsLic(self):\n",
    "        pr = Project('jabref','JabRef','Graphical Java application for managing BibTeX and biblatex (.bib) databases','https://www.jabref.org',None,'1043','1488','12/2/2019')\n",
    "        a = None\n",
    "        b = pr.getLicense()\n",
    "        self.assertEqual(a, b)\n",
    "        \n",
    "    \n",
    "\n",
    "if __name__ == '__main__':\n",
    "    unittest.main(argv=['first-arg-is-ignored'], exit=False)"
   ]
  },
  {
   "cell_type": "code",
   "execution_count": 25,
   "metadata": {},
   "outputs": [
    {
     "name": "stdout",
     "output_type": "stream",
     "text": [
      "Writing collected details in csv files\n",
      "Project Details Collected On: 2019-12-03\n",
      "Name: jabref, Login: JabRef, Desc: Graphical Java application for managing BibTeX and biblatex (.bib) databases\n",
      " Homepage:https://www.jabref.org\n",
      "Forks: 1042, Watchers: 1488\n",
      "Project License: Key: mit, Name: MIT License, Lid:MIT\n",
      "Title: Revert \"Fix #5615 side pane not remembering position (#5629)\", Score: 1.0, Number: 5706, Createdat: 2019-12-03T13:04:59Z\n",
      "Title: Last Minute Changes 5.0-beta, Score: 1.0, Number: 5705, Createdat: 2019-12-03T11:20:24Z\n",
      "Title: [WIP] Offer preview based on .bst file, Score: 1.0, Number: 5702, Createdat: 2019-12-02T23:00:24Z\n",
      "Title: Bump classgraph from 4.8.54 to 4.8.58, Score: 1.0, Number: 5697, Createdat: 2019-12-02T07:16:15Z\n",
      "Title: Bump unirest-java from 3.1.04 to 3.2.00, Score: 1.0, Number: 5696, Createdat: 2019-12-02T07:16:02Z\n",
      "Title: Bump byte-buddy-parent from 1.10.3 to 1.10.4, Score: 1.0, Number: 5695, Createdat: 2019-12-02T07:15:19Z\n",
      "Title: Bump checkstyle from 8.26 to 8.27, Score: 1.0, Number: 5694, Createdat: 2019-12-02T07:14:52Z\n",
      "Title: Bump richtextfx from 0.10.2 to 0.10.3, Score: 1.0, Number: 5693, Createdat: 2019-12-02T07:14:21Z\n",
      "Title: Bump mockito-core from 3.1.0 to 3.2.0, Score: 1.0, Number: 5692, Createdat: 2019-12-02T07:13:54Z\n",
      "Title: [WIP] Batch Insert entries, Score: 1.0, Number: 5691, Createdat: 2019-12-02T01:03:28Z\n",
      "Title: Update JavaFX, Score: 1.0, Number: 5690, Createdat: 2019-12-01T09:32:59Z\n",
      "Title: [WIP] Show merge entries for modified entries, Score: 1.0, Number: 5688, Createdat: 2019-11-30T16:55:46Z\n",
      "Title: New Crowdin translations, Score: 1.0, Number: 5687, Createdat: 2019-11-30T09:02:30Z\n",
      "Title: Set dev to false on tag builds, Score: 1.0, Number: 5686, Createdat: 2019-11-29T15:12:10Z\n",
      "Title: Update AUTHORS, Score: 1.0, Number: 5685, Createdat: 2019-11-29T13:44:31Z\n",
      "Title: Release 5.0-beta, Score: 1.0, Number: 5684, Createdat: 2019-11-29T13:35:22Z\n",
      "Title: Enable oracle tests, Score: 1.0, Number: 5683, Createdat: 2019-11-28T21:10:59Z\n",
      "Title: Use GitVersion to increment build numbers, Score: 1.0, Number: 5682, Createdat: 2019-11-28T17:30:53Z\n",
      "Title: Add throttle to AutosaveUIManager, Score: 1.0, Number: 5680, Createdat: 2019-11-27T23:41:49Z\n",
      "Title: New Crowdin translations, Score: 1.0, Number: 5678, Createdat: 2019-11-27T09:00:31Z\n",
      "Title: Fix database tests and enable running using GitHub workflows, Score: 1.0, Number: 5676, Createdat: 2019-11-26T23:27:34Z\n",
      "Title: [WIP] Fix fetcher tests, Score: 1.0, Number: 5674, Createdat: 2019-11-26T15:11:54Z\n",
      "Title: Bump mariadb-java-client from 2.5.1 to 2.5.2, Score: 1.0, Number: 5673, Createdat: 2019-11-25T07:16:59Z\n",
      "Title: Bump classgraph from 4.8.53 to 4.8.54, Score: 1.0, Number: 5672, Createdat: 2019-11-25T07:16:29Z\n",
      "Title: Fix copy drag and drop action, Score: 1.0, Number: 5671, Createdat: 2019-11-24T16:42:11Z\n",
      "Title: Improve column preference migration, Score: 1.0, Number: 5670, Createdat: 2019-11-24T12:10:04Z\n",
      "Title: [WIP] Fix change on disk detection, Score: 1.0, Number: 5669, Createdat: 2019-11-24T11:11:21Z\n",
      "Title: Remove dnd option, Score: 1.0, Number: 5668, Createdat: 2019-11-23T12:09:58Z\n",
      "Title: Rename \"lookup fulltext\" to \"download fulltext\", Score: 1.0, Number: 5667, Createdat: 2019-11-23T11:52:23Z\n",
      "Title: Auto file finder follows symbolic links, Score: 1.0, Number: 5666, Createdat: 2019-11-23T11:38:47Z\n"
     ]
    },
    {
     "data": {
      "image/png": "[encoded data removed]",
      "text/plain": [
       "<Figure size 432x288 with 1 Axes>"
      ]
     },
     "metadata": {
      "needs_background": "light"
     },
     "output_type": "display_data"
    },
    {
     "data": {
      "image/png": "[encoded data removed]",
      "text/plain": [
       "<Figure size 432x288 with 2 Axes>"
      ]
     },
     "metadata": {
      "needs_background": "light"
     },
     "output_type": "display_data"
    },
    {
     "data": {
      "image/png": "[encoded data removed]",
      "text/plain": [
       "<Figure size 432x288 with 1 Axes>"
      ]
     },
     "metadata": {
      "needs_background": "light"
     },
     "output_type": "display_data"
    },
    {
     "data": {
      "image/png": "[encoded data removed]",
      "text/plain": [
       "<Figure size 432x288 with 1 Axes>"
      ]
     },
     "metadata": {
      "needs_background": "light"
     },
     "output_type": "display_data"
    },
    {
     "data": {
      "image/png": "[encoded data removed]",
      "text/plain": [
       "<Figure size 432x288 with 1 Axes>"
      ]
     },
     "metadata": {
      "needs_background": "light"
     },
     "output_type": "display_data"
    },
    {
     "data": {
      "image/png": "[encoded data removed]",
      "text/plain": [
       "<Figure size 432x288 with 1 Axes>"
      ]
     },
     "metadata": {
      "needs_background": "light"
     },
     "output_type": "display_data"
    },
    {
     "name": "stdout",
     "output_type": "stream",
     "text": [
      "completed\n"
     ]
    }
   ],
   "source": [
    "#userinput = input(\"Please Enter URL:\")\n",
    "userinput = link\n",
    "project = collect(userinput)\n",
    "print(\"Writing collected details in csv files\")\n",
    "display(project)\n",
    "write(project)\n",
    "users = twitter(project)\n",
    "writeUsers(users)\n",
    "visuailizeResults(project)\n",
    "corr()\n",
    "print(\"completed\")"
   ]
  },
  {
   "cell_type": "code",
   "execution_count": null,
   "metadata": {},
   "outputs": [],
   "source": []
  }
 ],
 "metadata": {
  "kernelspec": {
   "display_name": "Python 3",
   "language": "python",
   "name": "python3"
  },
  "language_info": {
   "codemirror_mode": {
    "name": "ipython",
    "version": 3
   },
   "file_extension": ".py",
   "mimetype": "text/x-python",
   "name": "python",
   "nbconvert_exporter": "python",
   "pygments_lexer": "ipython3",
   "version": "3.7.4"
  }
 },
 "nbformat": 4,
 "nbformat_minor": 2
}
