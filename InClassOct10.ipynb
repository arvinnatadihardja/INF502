{
 "cells": [
  {
   "cell_type": "code",
   "execution_count": 0,
   "metadata": {
    "colab": {},
    "colab_type": "code",
    "id": "abpQYY4ismGZ"
   },
   "outputs": [],
   "source": [
    "# this is the actor class \n",
    "class actor:\n",
    "  def __init__(self, name):\n",
    "    self.name = name\n",
    "\n",
    "# this is the movie class\n",
    "\n",
    "class movie:\n",
    "  \n",
    "\n",
    "  \n",
    "# this is the constructor that takes all fields as input to fill\n",
    "\n",
    "  def __init__(self,title, genre, year, actors, review= \"\"):\n",
    "    self.title = title\n",
    "    self.genre = genre\n",
    "    self.year = year\n",
    "    self.actors = actors\n",
    "    self.counter = 0     # setting the counter to 0 at the start\n",
    "    self.review = review\n",
    "    self.borrowed = False  # setting the borrowed flag to False at start\n",
    "  \n",
    "  # if this function is called the counter of watching will increase by 1\n",
    "  def watch(self):\n",
    "    self.counter += 1  \n",
    "  \n",
    "  # will store the review inputted in self.review\n",
    "  def write_review(self, review):\n",
    "    self.review = review\n",
    "    \n",
    "  # if not borrowed then it will make it to True\n",
    "  # if it is already borrowed then it will say it is already borrowed\n",
    "  \n",
    "  def borrow(self):\n",
    "    if(self.borrowed == False):\n",
    "        self.borrowed = True\n",
    "    else:\n",
    "        return(\"Sorry, Already borrowed\")\n",
    "    \n",
    "  # this sets borrowed to False\n",
    "  def returning(self):\n",
    "    self.borrowed = False\n",
    "    \n",
    "    \n",
    "  # prints all the details of the movie\n",
    "  def show(self):\n",
    "    print(\"Movie: {}\".format(self.title))\n",
    "    print(\"Year: {}\".format(self.year))\n",
    "    print(\"Genre: {}\".format(self.genre))\n",
    "    print(\"Review: {}\".format(self.review))\n",
    "    print(\"\")\n",
    "    print(\"List of Actors:\")\n",
    "    for i in range(len(self.actors)):\n",
    "      print(self.actors[i].name)\n",
    "    \n",
    "    \n",
    "    \n",
    "\n",
    "    \n",
    "#test case\n",
    "a = actor(\"Leonardo DiCaprio\")\n",
    "b = actor(\"Kate Winslet\")\n",
    "\n",
    "c= [a,b]\n",
    "\n",
    "\n",
    "m = movie(\"Titanic\", [\"Drama\",\"Romance\"], 2000, c, \"Best movie ever\")"
   ]
  },
  {
   "cell_type": "code",
   "execution_count": 30,
   "metadata": {
    "colab": {
     "base_uri": "https://localhost:8080/",
     "height": 34
    },
    "colab_type": "code",
    "id": "iv2R6iDQ2qok",
    "outputId": "8d0f2c0b-ba20-4ba2-9718-79d5e060f97e"
   },
   "outputs": [
    {
     "name": "stdout",
     "output_type": "stream",
     "text": [
      "1\n"
     ]
    }
   ],
   "source": [
    "m.watch()\n",
    "print(m.counter)"
   ]
  },
  {
   "cell_type": "code",
   "execution_count": 0,
   "metadata": {
    "colab": {},
    "colab_type": "code",
    "id": "4h00iVnV2unH"
   },
   "outputs": [],
   "source": [
    "m.borrow()"
   ]
  },
  {
   "cell_type": "code",
   "execution_count": 32,
   "metadata": {
    "colab": {
     "base_uri": "https://localhost:8080/",
     "height": 34
    },
    "colab_type": "code",
    "id": "nanC1Lbq2xpF",
    "outputId": "fe769deb-dc34-4be7-ffe0-97f752d335c3"
   },
   "outputs": [
    {
     "data": {
      "text/plain": [
       "'Sorry, Already borrowed'"
      ]
     },
     "execution_count": 32,
     "metadata": {
      "tags": []
     },
     "output_type": "execute_result"
    }
   ],
   "source": [
    "m.borrow()"
   ]
  },
  {
   "cell_type": "code",
   "execution_count": 0,
   "metadata": {
    "colab": {},
    "colab_type": "code",
    "id": "WgLVOiCo2y8z"
   },
   "outputs": [],
   "source": [
    "m.returning()"
   ]
  },
  {
   "cell_type": "code",
   "execution_count": 0,
   "metadata": {
    "colab": {},
    "colab_type": "code",
    "id": "uG60GUKU20V_"
   },
   "outputs": [],
   "source": [
    "m.borrow()"
   ]
  },
  {
   "cell_type": "code",
   "execution_count": 35,
   "metadata": {
    "colab": {
     "base_uri": "https://localhost:8080/",
     "height": 153
    },
    "colab_type": "code",
    "id": "mNXGT08W2177",
    "outputId": "1bb857c8-369d-4c4a-ca39-43adaed2a0fe"
   },
   "outputs": [
    {
     "name": "stdout",
     "output_type": "stream",
     "text": [
      "Movie: Titanic\n",
      "Year: 2000\n",
      "Genre: ['Drama', 'Romance']\n",
      "Review: Best movie ever\n",
      "\n",
      "List of Actors:\n",
      "Leonardo DiCaprio\n",
      "Kate Winslet\n"
     ]
    }
   ],
   "source": [
    "m.show()"
   ]
  },
  {
   "cell_type": "code",
   "execution_count": 0,
   "metadata": {
    "colab": {},
    "colab_type": "code",
    "id": "5DcR-4ce3EML"
   },
   "outputs": [],
   "source": [
    "m.write_review(\"Great movie\")"
   ]
  },
  {
   "cell_type": "code",
   "execution_count": 37,
   "metadata": {
    "colab": {
     "base_uri": "https://localhost:8080/",
     "height": 153
    },
    "colab_type": "code",
    "id": "X6sz4Gco3MtG",
    "outputId": "2b50d7d0-00bb-4023-9da4-888a6c150b4e"
   },
   "outputs": [
    {
     "name": "stdout",
     "output_type": "stream",
     "text": [
      "Movie: Titanic\n",
      "Year: 2000\n",
      "Genre: ['Drama', 'Romance']\n",
      "Review: Great movie\n",
      "\n",
      "List of Actors:\n",
      "Leonardo DiCaprio\n",
      "Kate Winslet\n"
     ]
    }
   ],
   "source": [
    "m.show()"
   ]
  },
  {
   "cell_type": "code",
   "execution_count": 0,
   "metadata": {
    "colab": {},
    "colab_type": "code",
    "id": "elJvLwsJ3Qou"
   },
   "outputs": [],
   "source": []
  }
 ],
 "metadata": {
  "colab": {
   "name": "InClassOct10.ipynb",
   "provenance": []
  },
  "kernelspec": {
   "display_name": "Python 3",
   "language": "python",
   "name": "python3"
  },
  "language_info": {
   "codemirror_mode": {
    "name": "ipython",
    "version": 3
   },
   "file_extension": ".py",
   "mimetype": "text/x-python",
   "name": "python",
   "nbconvert_exporter": "python",
   "pygments_lexer": "ipython3",
   "version": "3.7.4"
  }
 },
 "nbformat": 4,
 "nbformat_minor": 1
}
